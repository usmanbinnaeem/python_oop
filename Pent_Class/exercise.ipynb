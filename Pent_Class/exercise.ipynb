{
 "cells": [
  {
   "cell_type": "markdown",
   "source": [
    "# OOP Syntax Exercise - Part 2\r\n",
    "\r\n",
    "Now that you've had some practice instantiating objects, it's time to write your own class from scratch. This lesson has two parts. In the first part, you'll write a Pants class. This class is similar to the shirt class with a couple of changes. Then you'll practice instantiating Pants objects\r\n",
    "\r\n",
    "In the second part, you'll write another class called SalesPerson. You'll also instantiate objects for the SalesPerson.\r\n",
    "\r\n",
    "For this exercise, you can do all of your work in this Jupyter notebook. You will not need to import the class because all of your code will be in this Jupyter notebook.\r\n",
    "\r\n",
    "Answers are also provided. If you click on the Jupyter icon, you can open a folder called 2.OOP_syntax_pants_practice, which contains this Jupyter notebook ('exercise.ipynb') and a file called answer.py.\r\n"
   ],
   "metadata": {}
  },
  {
   "cell_type": "markdown",
   "source": [
    "# Pants class\r\n",
    "\r\n",
    "Write a Pants class with the following characteristics:\r\n",
    "\r\n",
    "- the class name should be Pants\r\n",
    "- the class attributes should include\r\n",
    "- color\r\n",
    "- waist_size\r\n",
    "- length\r\n",
    "- price\r\n",
    "- the class should have an init function that initializes all of the attributes\r\n",
    "- the class should have two methods\r\n",
    "- change_price() a method to change the price attribute\r\n",
    "- discount() to calculate a discount\r\n"
   ],
   "metadata": {}
  },
  {
   "cell_type": "code",
   "execution_count": 2,
   "source": [
    "### TODO:\r\n",
    "#   - code a Pants class with the following attributes\r\n",
    "#   - color (string) eg 'red', 'yellow', 'orange'\r\n",
    "#   - waist_size (integer) eg 8, 9, 10, 32, 33, 34\r\n",
    "#   - length (integer) eg 27, 28, 29, 30, 31\r\n",
    "#   - price (float) eg 9.28\r\n",
    "# salesperson.sell_pants(pants_one)\r\n",
    "### TODO: Declare the Pants Class \r\n",
    "\r\n",
    "class Pants:\r\n",
    "# salesperson.display_sales()\r\n",
    "### TODO: write an __init__ function to initialize the attributes\r\n",
    "\r\n",
    "    def __init__(self, color, waist_size, length, price):\r\n",
    "        self.color = color\r\n",
    "        self.waist_size = waist_size\r\n",
    "        self.length = length\r\n",
    "        self.price = price\r\n",
    "\r\n",
    "### TODO: write a change_price method:\r\n",
    "    def change_price(self, new_price):\r\n",
    "        self.price = new_price\r\n",
    "#    Args:\r\n",
    "#        new_price (float): the new price of the shirt\r\n",
    "#    Returns:\r\n",
    "#        None\r\n",
    "\r\n",
    "### TODO: write a discount method:\r\n",
    "    def discount(self, percentage):\r\n",
    "\r\n",
    "        discounted_price = self.price * (1 - percentage)\r\n",
    "#    Args:\r\n",
    "#        discount (float): a decimal value for the discount. \r\n",
    "#            For example 0.05 for a 5% discount.\r\n",
    "#\r\n",
    "#    Returns:\r\n",
    "#        float: the discounted price\r\n",
    "        return discounted_price"
   ],
   "outputs": [],
   "metadata": {}
  },
  {
   "cell_type": "markdown",
   "source": [
    "# Run the code cell below to check results\r\n",
    "\r\n",
    "If you run the next code cell and get an error, then revise your code until the code cell doesn't output anything.\r\n"
   ],
   "metadata": {}
  },
  {
   "cell_type": "code",
   "execution_count": 4,
   "source": [
    "def check_results():\r\n",
    "    pants = Pants('red', 35, 36, 15.12)\r\n",
    "    assert pants.color == 'red'\r\n",
    "    assert pants.waist_size == 35\r\n",
    "    assert pants.length == 36\r\n",
    "    assert pants.price == 15.12\r\n",
    "# salesperson.sell_pants(pants_one)\r\n",
    "    pants.change_price(10) == 10\r\n",
    "    assert pants.price == 10 \r\n",
    "    \r\n",
    "# salesperson.display_sales()\r\n",
    "    \r\n",
    "    print('You made it to the end of the check. Nice job!')\r\n",
    "\r\n",
    "check_results()"
   ],
   "outputs": [
    {
     "output_type": "stream",
     "name": "stdout",
     "text": [
      "You made it to the end of the check. Nice job!\n"
     ]
    }
   ],
   "metadata": {}
  },
  {
   "cell_type": "markdown",
   "source": [
    "# SalesPerson class\r\n",
    "\r\n",
    "The Pants class and Shirt class are quite similar. Here is an exercise to give you more practice writing a class. **This exercise is trickier than the previous exercises.**\r\n",
    "\r\n",
    "Write a SalesPerson class with the following characteristics:\r\n",
    "\r\n",
    "- the class name should be SalesPerson\r\n",
    "- the class attributes should include\r\n",
    "- first_name\r\n",
    "- last_name\r\n",
    "- employee_id\r\n",
    "- salary\r\n",
    "- pants_sold\r\n",
    "- total_sales\r\n",
    "- the class should have an init function that initializes all of the attributes\r\n",
    "- the class should have four methods\r\n",
    "- sell_pants() a method to change the price attribute\r\n",
    "- calculate_sales() a method to calculate the sales\r\n",
    "- display_sales() a method to print out all the pants sold with nice formatting\r\n",
    "- calculate_commission() a method to calculate the salesperson commission based on total sales and a percentage\r\n"
   ],
   "metadata": {}
  },
  {
   "cell_type": "code",
   "execution_count": 5,
   "source": [
    "# TODO:\r\n",
    "#   Code a SalesPerson class with the following attributes\r\n",
    "#   - first_name (string), the first name of the salesperson\r\n",
    "#   - last_name (string), the last name of the salesperson\r\n",
    "#   - employee_id (int), the employee ID number like 5681923\r\n",
    "#   - salary (float), the monthly salary of the employee\r\n",
    "# salesperson.sell_pants(pants_one)\r\n",
    "#            pants that the salesperson has sold\r\n",
    "#   - total_sales (float), sum of sales of pants sold\r\n",
    "\r\n",
    "# salesperson.display_sales()\r\n",
    "\r\n",
    "\r\n",
    "class SalesPerson:\r\n",
    "\r\n",
    "    # TODO: write an __init__ function to initialize the attributes\r\n",
    "    # Input Args for the __init__ function:\r\n",
    "    #        first_name (str)\r\n",
    "    #        last_name (str)\r\n",
    "    #        employee_id (int)\r\n",
    "    # .      salary (float)\r\n",
    "    #\r\n",
    "    # You can initialize pants_sold as an empty list\r\n",
    "    # You can initialize total_sales to zero.\r\n",
    "    #\r\n",
    "    ###\r\n",
    "\r\n",
    "    def __init__(self, first_name, last_name, employee_id, salary):\r\n",
    "        self.first_name = first_name\r\n",
    "        self.last_name = last_name\r\n",
    "        self.employee_id = employee_id\r\n",
    "        self.salary = salary\r\n",
    "        self.pants_sold = []\r\n",
    "        self.total_sales = 0\r\n",
    "\r\n",
    "# TODO: write a sell_pants method:\r\n",
    "#\r\n",
    "#    This method receives a Pants object and appends\r\n",
    "#    the object to the pants_sold attribute list\r\n",
    "#\r\n",
    "#    Args:\r\n",
    "#        pants (Pants object): a pants object\r\n",
    "#    Returns:\r\n",
    "#        None\r\n",
    "\r\n",
    "    def sell_pants(self, obj):\r\n",
    "        self.pants_sold.append(obj)\r\n",
    "\r\n",
    "\r\n",
    "# TODO: write a display_sales method:\r\n",
    "#\r\n",
    "#    This method has no input or outputs. When this method\r\n",
    "#    is called, the code iterates through the pants_sold list\r\n",
    "#    and prints out the characteristics of each pair of pants\r\n",
    "#    line by line. The print out should look something like this\r\n",
    "#\r\n",
    "#   color: blue, waist_size: 34, length: 34, price: 10\r\n",
    "#   color: red, waist_size: 36, length: 30, price: 14.15\r\n",
    "#\r\n",
    "#\r\n",
    "#\r\n",
    "###\r\n",
    "\r\n",
    "    def display_sales(self):\r\n",
    "        for pants in self.pants_sold:\r\n",
    "            print('color: {}, waist_size: {}, length: {}, price: {}'.format(pants.color, pants.waist_size, pants.length, pants.price)\r\n",
    "                  )\r\n",
    "\r\n",
    "# TODO: write a calculate_sales method:\r\n",
    "#      This method calculates the total sales for the sales person.\r\n",
    "#      The method should iterate through the pants_sold attribute list\r\n",
    "#      and sum the prices of the pants sold. The sum should be stored\r\n",
    "#      in the total_sales attribute and then return the total.\r\n",
    "#\r\n",
    "#      Args:\r\n",
    "#        None\r\n",
    "#      Returns:\r\n",
    "#        float: total sales\r\n",
    "#\r\n",
    "###\r\n",
    "\r\n",
    "    def calculate_sales(self):\r\n",
    "        total = 0\r\n",
    "        for pants in self.pants_sold:\r\n",
    "            total += pants.price\r\n",
    "        self.total_sales = total\r\n",
    "        return total\r\n",
    "\r\n",
    "\r\n",
    "# TODO: write a calculate_commission method:\r\n",
    "#\r\n",
    "#   The salesperson receives a commission based on the total\r\n",
    "#   sales of pants. The method receives a percentage, and then\r\n",
    "#   calculate the total sales of pants based on the price,\r\n",
    "#   and then returns the commission as (percentage * total sales)\r\n",
    "#\r\n",
    "#    Args:\r\n",
    "#        percentage (float): comission percentage as a decimal\r\n",
    "#\r\n",
    "#    Returns:\r\n",
    "#        float: total commission\r\n",
    "#\r\n",
    "#\r\n",
    "###\r\n",
    "\r\n",
    "    def calculate_commission(self, percentage):\r\n",
    "        return percentage * self.total_sales\r\n",
    "\r\n"
   ],
   "outputs": [],
   "metadata": {}
  },
  {
   "cell_type": "markdown",
   "source": [
    "# Run the code cell below to check results\r\n",
    "\r\n",
    "If you run the next code cell and get an error, then revise your code until the code cell doesn't output anything.\r\n"
   ],
   "metadata": {}
  },
  {
   "cell_type": "code",
   "execution_count": 6,
   "source": [
    "def check_results():\r\n",
    "    pants_one = Pants('red', 35, 36, 15.12)\r\n",
    "    pants_two = Pants('blue', 40, 38, 24.12)\r\n",
    "    pants_three = Pants('tan', 28, 30, 8.12)\r\n",
    "    \r\n",
    "    salesperson = SalesPerson('Amy', 'Gonzalez', 2581923, 40000)\r\n",
    "# salesperson.sell_pants(pants_one)\r\n",
    "    assert salesperson.first_name == 'Amy'\r\n",
    "    assert salesperson.last_name == 'Gonzalez'\r\n",
    "    assert salesperson.employee_id == 2581923\r\n",
    "# salesperson.display_sales()\r\n",
    "    assert salesperson.pants_sold == []\r\n",
    "    assert salesperson.total_sales == 0\r\n",
    "    \r\n",
    "    salesperson.sell_pants(pants_one)\r\n",
    "    salesperson.pants_sold[0] == pants_one.color\r\n",
    "    \r\n",
    "    salesperson.sell_pants(pants_two)\r\n",
    "    salesperson.sell_pants(pants_three)\r\n",
    "    \r\n",
    "    assert len(salesperson.pants_sold) == 3\r\n",
    "    assert round(salesperson.calculate_sales(),2) == 47.36\r\n",
    "    assert round(salesperson.calculate_commission(.1),2) == 4.74\r\n",
    "    \r\n",
    "    print('Great job, you made it to the end of the code checks!')\r\n",
    "    \r\n",
    "check_results()"
   ],
   "outputs": [
    {
     "output_type": "stream",
     "name": "stdout",
     "text": [
      "Great job, you made it to the end of the code checks!\n"
     ]
    }
   ],
   "metadata": {}
  },
  {
   "cell_type": "markdown",
   "source": [
    "### Check display_sales() method\r\n",
    "\r\n",
    "If you run the code cell below, you should get output similar to this:\r\n",
    "\r\n",
    "```python\r\n",
    "color: red, waist_size: 35, length: 36, price: 15.12\r\n",
    "color: blue, waist_size: 40, length: 38, price: 24.12\r\n",
    "color: tan, waist_size: 28, length: 30, price: 8.12\r\n",
    "```\r\n"
   ],
   "metadata": {}
  },
  {
   "cell_type": "code",
   "execution_count": 7,
   "source": [
    "pants_one = Pants('red', 35, 36, 15.12)\r\n",
    "pants_two = Pants('blue', 40, 38, 24.12)\r\n",
    "pants_three = Pants('tan', 28, 30, 8.12)\r\n",
    "\r\n",
    "salesperson = SalesPerson('Amy', 'Gonzalez', 2581923, 40000)\r\n",
    "\r\n",
    "salesperson.sell_pants(pants_one)    \r\n",
    "salesperson.sell_pants(pants_two)\r\n",
    "salesperson.sell_pants(pants_three)\r\n",
    "\r\n",
    "salesperson.display_sales()"
   ],
   "outputs": [
    {
     "output_type": "stream",
     "name": "stdout",
     "text": [
      "color: red, waist_size: 35, length: 36, price: 15.12\n",
      "color: blue, waist_size: 40, length: 38, price: 24.12\n",
      "color: tan, waist_size: 28, length: 30, price: 8.12\n"
     ]
    }
   ],
   "metadata": {}
  },
  {
   "cell_type": "markdown",
   "source": [
    "# Solution\r\n",
    "\r\n",
    "As a reminder, answers are also provided. If you click on the Jupyter icon, you can open a folder called 2.OOP_syntax_pants_practice, which contains this Jupyter notebook and a file called answer.py.\r\n"
   ],
   "metadata": {}
  }
 ],
 "metadata": {
  "kernelspec": {
   "name": "python3",
   "display_name": "Python 3.9.7 64-bit"
  },
  "language_info": {
   "codemirror_mode": {
    "name": "ipython",
    "version": 3
   },
   "file_extension": ".py",
   "mimetype": "text/x-python",
   "name": "python",
   "nbconvert_exporter": "python",
   "pygments_lexer": "ipython3",
   "version": "3.9.7"
  },
  "interpreter": {
   "hash": "2a3b6c66cde5305da31e4fe4bf8d805bfd7923cd7b0fa88f3b92c0f5deaa64e5"
  }
 },
 "nbformat": 4,
 "nbformat_minor": 2
}