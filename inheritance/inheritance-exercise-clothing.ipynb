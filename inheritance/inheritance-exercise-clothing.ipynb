{
 "cells": [
  {
   "cell_type": "markdown",
   "source": [
    "# Inheritance Exercise Clothing\n",
    "\n",
    "The following code contains a Clothing parent class and two children classes: Shirt and Pants.\n",
    "\n",
    "Your job is to code a class called Blouse. Read through the code and fill out the TODOs. Then check your work with the unit tests at the bottom of the code."
   ],
   "metadata": {}
  },
  {
   "cell_type": "code",
   "execution_count": 1,
   "source": [
    "class Clothing:\r\n",
    "\r\n",
    "    def __init__(self, color, size, style, price):\r\n",
    "        self.color = color\r\n",
    "        self.size = size\r\n",
    "        self.style = style\r\n",
    "        self.price = price\r\n",
    "        \r\n",
    "    def change_price(self, price):\r\n",
    "        self.price = price\r\n",
    "        \r\n",
    "    def calculate_discount(self, discount):\r\n",
    "        return self.price * (1 - discount)\r\n",
    "\r\n",
    "    def calculate_shipping(self, weight, rate):\r\n",
    "        return weight * rate\r\n",
    "\r\n",
    "        \r\n",
    "class Shirt(Clothing):\r\n",
    "    \r\n",
    "    def __init__(self, color, size, style, price, long_or_short):\r\n",
    "        \r\n",
    "        Clothing.__init__(self, color, size, style, price)\r\n",
    "        self.long_or_short = long_or_short\r\n",
    "    \r\n",
    "    def double_price(self):\r\n",
    "        self.price = 2*self.price\r\n",
    "    \r\n",
    "class Pants(Clothing):\r\n",
    "\r\n",
    "    def __init__(self, color, size, style, price, waist):\r\n",
    "        \r\n",
    "        Clothing.__init__(self, color, size, style, price)\r\n",
    "        self.waist = waist\r\n",
    "        \r\n",
    "    def calculate_discount(self, discount):\r\n",
    "        return self.price * (1 - discount / 2)\r\n",
    "    \r\n",
    "# TODO: Write a class called Blouse, that inherits from the Clothing class\r\n",
    "# and has the the following attributes and methods:\r\n",
    "#   attributes: color, size, style, price, country_of_origin\r\n",
    "#     where country_of_origin is a string that holds the name of a \r\n",
    "#     country\r\n",
    "#\r\n",
    "#   methods: triple_price, which has no inputs and returns three times\r\n",
    "#     the price of the blouse\r\n",
    "\r\n",
    "class Blouse(Clothing):\r\n",
    "\r\n",
    "    def __init__(self,  color, size, style, price, country_of_origin):\r\n",
    "        Clothing.__init__(self, color, size, style, price)\r\n",
    "        self.country_of_origin = country_of_origin\r\n",
    "\r\n",
    "    def triple_price(self):\r\n",
    "        return self.price * 3\r\n",
    "\r\n",
    "# TODO: Add a method to the clothing class called calculate_shipping.\r\n",
    "#   The method has two inputs: weight and rate. Weight is a float\r\n",
    "#   representing the weight of the article of clothing. Rate is a float\r\n",
    "#   representing the shipping weight. The method returns weight * rate\r\n",
    "\r\n",
    "\r\n",
    "\r\n"
   ],
   "outputs": [],
   "metadata": {}
  },
  {
   "cell_type": "code",
   "execution_count": 4,
   "source": [
    "BLouse_one = Blouse(\"red\", 24, \"Half\", 400, \"Pakistan\")\r\n",
    "triple_price = BLouse_one.triple_price()\r\n",
    "print(triple_price)"
   ],
   "outputs": [
    {
     "output_type": "stream",
     "name": "stdout",
     "text": [
      "1200\n"
     ]
    }
   ],
   "metadata": {}
  },
  {
   "cell_type": "code",
   "execution_count": 7,
   "source": [
    "BLouse_one.change_price(1000)\r\n",
    "print(BLouse_one.price)"
   ],
   "outputs": [
    {
     "output_type": "stream",
     "name": "stdout",
     "text": [
      "1000\n"
     ]
    }
   ],
   "metadata": {}
  },
  {
   "cell_type": "code",
   "execution_count": 2,
   "source": [
    "# Unit tests to check your solution\r\n",
    "\r\n",
    "import unittest\r\n",
    "\r\n",
    "class TestClothingClass(unittest.TestCase):\r\n",
    "    def setUp(self):\r\n",
    "        self.clothing = Clothing('orange', 'M', 'stripes', 35)\r\n",
    "        self.blouse = Blouse('blue', 'M', 'luxury', 40, 'Brazil')\r\n",
    "        self.pants = Pants('black', 32, 'baggy', 60, 30)\r\n",
    "        \r\n",
    "    def test_initialization(self): \r\n",
    "        self.assertEqual(self.clothing.color, 'orange', 'color should be orange')\r\n",
    "        self.assertEqual(self.clothing.price, 35, 'incorrect price')\r\n",
    "        \r\n",
    "        self.assertEqual(self.blouse.color, 'blue', 'color should be blue')\r\n",
    "        self.assertEqual(self.blouse.size, 'M', 'incorrect size')\r\n",
    "        self.assertEqual(self.blouse.style, 'luxury', 'incorrect style')\r\n",
    "        self.assertEqual(self.blouse.price, 40, 'incorrect price')\r\n",
    "        self.assertEqual(self.blouse.country_of_origin, 'Brazil', 'incorrect country of origin')\r\n",
    "\r\n",
    "    def test_calculateshipping(self):\r\n",
    "        self.assertEqual(self.clothing.calculate_shipping(.5, 3), .5 * 3,\\\r\n",
    "         'Clothing shipping calculation not as expected') \r\n",
    "\r\n",
    "        self.assertEqual(self.blouse.calculate_shipping(.5, 3), .5 * 3,\\\r\n",
    "         'Clothing shipping calculation not as expected') \r\n",
    "    \r\n",
    "tests = TestClothingClass()\r\n",
    "\r\n",
    "tests_loaded = unittest.TestLoader().loadTestsFromModule(tests)\r\n",
    "\r\n",
    "unittest.TextTestRunner().run(tests_loaded)"
   ],
   "outputs": [
    {
     "output_type": "stream",
     "name": "stderr",
     "text": [
      "..\n",
      "----------------------------------------------------------------------\n",
      "Ran 2 tests in 0.002s\n",
      "\n",
      "OK\n"
     ]
    },
    {
     "output_type": "execute_result",
     "data": {
      "text/plain": [
       "<unittest.runner.TextTestResult run=2 errors=0 failures=0>"
      ]
     },
     "metadata": {},
     "execution_count": 2
    }
   ],
   "metadata": {}
  }
 ],
 "metadata": {
  "kernelspec": {
   "name": "python3",
   "display_name": "Python 3.9.7 64-bit"
  },
  "language_info": {
   "codemirror_mode": {
    "name": "ipython",
    "version": 3
   },
   "file_extension": ".py",
   "mimetype": "text/x-python",
   "name": "python",
   "nbconvert_exporter": "python",
   "pygments_lexer": "ipython3",
   "version": "3.9.7"
  },
  "interpreter": {
   "hash": "2a3b6c66cde5305da31e4fe4bf8d805bfd7923cd7b0fa88f3b92c0f5deaa64e5"
  }
 },
 "nbformat": 4,
 "nbformat_minor": 2
}